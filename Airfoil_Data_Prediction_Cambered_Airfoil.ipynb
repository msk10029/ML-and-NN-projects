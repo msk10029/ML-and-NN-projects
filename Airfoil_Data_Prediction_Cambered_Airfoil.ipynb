{
 "cells": [
  {
   "cell_type": "code",
   "execution_count": 1,
   "id": "0389f62f",
   "metadata": {},
   "outputs": [],
   "source": [
    "import numpy as np\n",
    "import pandas as pd"
   ]
  },
  {
   "cell_type": "code",
   "execution_count": 2,
   "id": "c3a3b71b",
   "metadata": {},
   "outputs": [],
   "source": [
    "data = pd.read_csv(\"Desktop/Cambered_airfoil_data.csv\")"
   ]
  },
  {
   "cell_type": "code",
   "execution_count": 3,
   "id": "a33358e1",
   "metadata": {},
   "outputs": [
    {
     "data": {
      "text/html": [
       "<div>\n",
       "<style scoped>\n",
       "    .dataframe tbody tr th:only-of-type {\n",
       "        vertical-align: middle;\n",
       "    }\n",
       "\n",
       "    .dataframe tbody tr th {\n",
       "        vertical-align: top;\n",
       "    }\n",
       "\n",
       "    .dataframe thead th {\n",
       "        text-align: right;\n",
       "    }\n",
       "</style>\n",
       "<table border=\"1\" class=\"dataframe\">\n",
       "  <thead>\n",
       "    <tr style=\"text-align: right;\">\n",
       "      <th></th>\n",
       "      <th>Alpha</th>\n",
       "      <th>T1_Re0.050_M0.00_N9.0</th>\n",
       "      <th></th>\n",
       "      <th>Alpha</th>\n",
       "      <th>T1_Re0.070_M0.00_N9.0</th>\n",
       "      <th>.1</th>\n",
       "      <th>Alpha.1</th>\n",
       "      <th>T1_Re0.090_M0.00_N9.0</th>\n",
       "      <th>.2</th>\n",
       "      <th>Alpha.2</th>\n",
       "      <th>...</th>\n",
       "      <th>Alpha.44</th>\n",
       "      <th>T1_Re0.950_M0.00_N9.0</th>\n",
       "      <th>.45</th>\n",
       "      <th>Alpha.45</th>\n",
       "      <th>T1_Re0.970_M0.00_N9.0</th>\n",
       "      <th>.46</th>\n",
       "      <th>Alpha.46</th>\n",
       "      <th>T1_Re0.990_M0.00_N9.0</th>\n",
       "      <th>.47</th>\n",
       "      <th>.48</th>\n",
       "    </tr>\n",
       "  </thead>\n",
       "  <tbody>\n",
       "    <tr>\n",
       "      <th>0</th>\n",
       "      <td>-6.5</td>\n",
       "      <td>-0.577045</td>\n",
       "      <td></td>\n",
       "      <td>-7.0</td>\n",
       "      <td>-0.614430</td>\n",
       "      <td></td>\n",
       "      <td>-7.0</td>\n",
       "      <td>-0.626023</td>\n",
       "      <td></td>\n",
       "      <td>-7.0</td>\n",
       "      <td>...</td>\n",
       "      <td>-7.0</td>\n",
       "      <td>-0.527666</td>\n",
       "      <td></td>\n",
       "      <td>-7.0</td>\n",
       "      <td>-0.527016</td>\n",
       "      <td></td>\n",
       "      <td>-7.0</td>\n",
       "      <td>-0.526441</td>\n",
       "      <td></td>\n",
       "      <td></td>\n",
       "    </tr>\n",
       "    <tr>\n",
       "      <th>1</th>\n",
       "      <td>-6.0</td>\n",
       "      <td>-0.552619</td>\n",
       "      <td></td>\n",
       "      <td>-6.5</td>\n",
       "      <td>-0.593440</td>\n",
       "      <td></td>\n",
       "      <td>-6.5</td>\n",
       "      <td>-0.601547</td>\n",
       "      <td></td>\n",
       "      <td>-6.5</td>\n",
       "      <td>...</td>\n",
       "      <td>-6.5</td>\n",
       "      <td>-0.466400</td>\n",
       "      <td></td>\n",
       "      <td>-6.5</td>\n",
       "      <td>-0.465942</td>\n",
       "      <td></td>\n",
       "      <td>-6.5</td>\n",
       "      <td>-0.465745</td>\n",
       "      <td></td>\n",
       "      <td></td>\n",
       "    </tr>\n",
       "    <tr>\n",
       "      <th>2</th>\n",
       "      <td>-5.5</td>\n",
       "      <td>-0.522672</td>\n",
       "      <td></td>\n",
       "      <td>-6.0</td>\n",
       "      <td>-0.561319</td>\n",
       "      <td></td>\n",
       "      <td>-6.0</td>\n",
       "      <td>-0.566470</td>\n",
       "      <td></td>\n",
       "      <td>-6.0</td>\n",
       "      <td>...</td>\n",
       "      <td>-6.0</td>\n",
       "      <td>-0.412375</td>\n",
       "      <td></td>\n",
       "      <td>-6.0</td>\n",
       "      <td>-0.412611</td>\n",
       "      <td></td>\n",
       "      <td>-6.0</td>\n",
       "      <td>-0.412821</td>\n",
       "      <td></td>\n",
       "      <td></td>\n",
       "    </tr>\n",
       "    <tr>\n",
       "      <th>3</th>\n",
       "      <td>-5.0</td>\n",
       "      <td>-0.486244</td>\n",
       "      <td></td>\n",
       "      <td>-5.5</td>\n",
       "      <td>-0.526076</td>\n",
       "      <td></td>\n",
       "      <td>-5.5</td>\n",
       "      <td>-0.526676</td>\n",
       "      <td></td>\n",
       "      <td>-5.5</td>\n",
       "      <td>...</td>\n",
       "      <td>-5.5</td>\n",
       "      <td>-0.357905</td>\n",
       "      <td></td>\n",
       "      <td>-5.5</td>\n",
       "      <td>-0.358466</td>\n",
       "      <td></td>\n",
       "      <td>-5.5</td>\n",
       "      <td>-0.358982</td>\n",
       "      <td></td>\n",
       "      <td></td>\n",
       "    </tr>\n",
       "    <tr>\n",
       "      <th>4</th>\n",
       "      <td>-4.5</td>\n",
       "      <td>-0.445651</td>\n",
       "      <td></td>\n",
       "      <td>-5.0</td>\n",
       "      <td>-0.484870</td>\n",
       "      <td></td>\n",
       "      <td>-5.0</td>\n",
       "      <td>-0.484836</td>\n",
       "      <td></td>\n",
       "      <td>-5.0</td>\n",
       "      <td>...</td>\n",
       "      <td>-5.0</td>\n",
       "      <td>-0.304218</td>\n",
       "      <td></td>\n",
       "      <td>-5.0</td>\n",
       "      <td>-0.304613</td>\n",
       "      <td></td>\n",
       "      <td>-5.0</td>\n",
       "      <td>-0.305041</td>\n",
       "      <td></td>\n",
       "      <td></td>\n",
       "    </tr>\n",
       "  </tbody>\n",
       "</table>\n",
       "<p>5 rows × 145 columns</p>\n",
       "</div>"
      ],
      "text/plain": [
       "   Alpha  T1_Re0.050_M0.00_N9.0      Alpha  T1_Re0.070_M0.00_N9.0  .1  \\\n",
       "0   -6.5              -0.577045       -7.0              -0.614430       \n",
       "1   -6.0              -0.552619       -6.5              -0.593440       \n",
       "2   -5.5              -0.522672       -6.0              -0.561319       \n",
       "3   -5.0              -0.486244       -5.5              -0.526076       \n",
       "4   -4.5              -0.445651       -5.0              -0.484870       \n",
       "\n",
       "    Alpha.1  T1_Re0.090_M0.00_N9.0  .2   Alpha.2  ...   Alpha.44  \\\n",
       "0      -7.0              -0.626023          -7.0  ...       -7.0   \n",
       "1      -6.5              -0.601547          -6.5  ...       -6.5   \n",
       "2      -6.0              -0.566470          -6.0  ...       -6.0   \n",
       "3      -5.5              -0.526676          -5.5  ...       -5.5   \n",
       "4      -5.0              -0.484836          -5.0  ...       -5.0   \n",
       "\n",
       "  T1_Re0.950_M0.00_N9.0   .45   Alpha.45 T1_Re0.970_M0.00_N9.0   .46  \\\n",
       "0             -0.527666             -7.0             -0.527016         \n",
       "1             -0.466400             -6.5             -0.465942         \n",
       "2             -0.412375             -6.0             -0.412611         \n",
       "3             -0.357905             -5.5             -0.358466         \n",
       "4             -0.304218             -5.0             -0.304613         \n",
       "\n",
       "    Alpha.46 T1_Re0.990_M0.00_N9.0   .47   .48  \n",
       "0       -7.0             -0.526441              \n",
       "1       -6.5             -0.465745              \n",
       "2       -6.0             -0.412821              \n",
       "3       -5.5             -0.358982              \n",
       "4       -5.0             -0.305041              \n",
       "\n",
       "[5 rows x 145 columns]"
      ]
     },
     "execution_count": 3,
     "metadata": {},
     "output_type": "execute_result"
    }
   ],
   "source": [
    "data.head()"
   ]
  },
  {
   "cell_type": "code",
   "execution_count": 4,
   "id": "3fcabf55",
   "metadata": {},
   "outputs": [
    {
     "data": {
      "text/html": [
       "<div>\n",
       "<style scoped>\n",
       "    .dataframe tbody tr th:only-of-type {\n",
       "        vertical-align: middle;\n",
       "    }\n",
       "\n",
       "    .dataframe tbody tr th {\n",
       "        vertical-align: top;\n",
       "    }\n",
       "\n",
       "    .dataframe thead th {\n",
       "        text-align: right;\n",
       "    }\n",
       "</style>\n",
       "<table border=\"1\" class=\"dataframe\">\n",
       "  <thead>\n",
       "    <tr style=\"text-align: right;\">\n",
       "      <th></th>\n",
       "      <th>Alpha</th>\n",
       "      <th>T1_Re0.050_M0.00_N9.0</th>\n",
       "      <th></th>\n",
       "      <th>Alpha</th>\n",
       "      <th>T1_Re0.070_M0.00_N9.0</th>\n",
       "      <th>.1</th>\n",
       "      <th>Alpha.1</th>\n",
       "      <th>T1_Re0.090_M0.00_N9.0</th>\n",
       "      <th>.2</th>\n",
       "      <th>Alpha.2</th>\n",
       "      <th>...</th>\n",
       "      <th>Alpha.44</th>\n",
       "      <th>T1_Re0.950_M0.00_N9.0</th>\n",
       "      <th>.45</th>\n",
       "      <th>Alpha.45</th>\n",
       "      <th>T1_Re0.970_M0.00_N9.0</th>\n",
       "      <th>.46</th>\n",
       "      <th>Alpha.46</th>\n",
       "      <th>T1_Re0.990_M0.00_N9.0</th>\n",
       "      <th>.47</th>\n",
       "      <th>.48</th>\n",
       "    </tr>\n",
       "  </thead>\n",
       "  <tbody>\n",
       "    <tr>\n",
       "      <th>48</th>\n",
       "      <td>17.5</td>\n",
       "      <td>0.833164</td>\n",
       "      <td></td>\n",
       "      <td>17.5</td>\n",
       "      <td>0.878440</td>\n",
       "      <td></td>\n",
       "      <td>17.0</td>\n",
       "      <td>0.864709</td>\n",
       "      <td></td>\n",
       "      <td>18.0</td>\n",
       "      <td>...</td>\n",
       "      <td>17.5</td>\n",
       "      <td>1.415771</td>\n",
       "      <td></td>\n",
       "      <td>17.0</td>\n",
       "      <td>1.441254</td>\n",
       "      <td></td>\n",
       "      <td>17.0</td>\n",
       "      <td>1.450787</td>\n",
       "      <td></td>\n",
       "      <td></td>\n",
       "    </tr>\n",
       "    <tr>\n",
       "      <th>49</th>\n",
       "      <td>18.0</td>\n",
       "      <td>0.861466</td>\n",
       "      <td></td>\n",
       "      <td>18.0</td>\n",
       "      <td>0.851977</td>\n",
       "      <td></td>\n",
       "      <td>17.5</td>\n",
       "      <td>0.843383</td>\n",
       "      <td></td>\n",
       "      <td>18.5</td>\n",
       "      <td>...</td>\n",
       "      <td>18.0</td>\n",
       "      <td>1.397626</td>\n",
       "      <td></td>\n",
       "      <td>17.5</td>\n",
       "      <td>1.425930</td>\n",
       "      <td></td>\n",
       "      <td>17.5</td>\n",
       "      <td>1.436161</td>\n",
       "      <td></td>\n",
       "      <td></td>\n",
       "    </tr>\n",
       "    <tr>\n",
       "      <th>50</th>\n",
       "      <td>18.5</td>\n",
       "      <td>0.861321</td>\n",
       "      <td></td>\n",
       "      <td>18.5</td>\n",
       "      <td>0.870471</td>\n",
       "      <td></td>\n",
       "      <td>18.0</td>\n",
       "      <td>0.864485</td>\n",
       "      <td></td>\n",
       "      <td>19.0</td>\n",
       "      <td>...</td>\n",
       "      <td>18.5</td>\n",
       "      <td>1.376234</td>\n",
       "      <td></td>\n",
       "      <td>18.0</td>\n",
       "      <td>1.408464</td>\n",
       "      <td></td>\n",
       "      <td>18.0</td>\n",
       "      <td>1.418139</td>\n",
       "      <td></td>\n",
       "      <td></td>\n",
       "    </tr>\n",
       "    <tr>\n",
       "      <th>51</th>\n",
       "      <td>19.0</td>\n",
       "      <td>0.906854</td>\n",
       "      <td></td>\n",
       "      <td>19.0</td>\n",
       "      <td>0.902335</td>\n",
       "      <td></td>\n",
       "      <td>18.5</td>\n",
       "      <td>0.893758</td>\n",
       "      <td></td>\n",
       "      <td>19.5</td>\n",
       "      <td>...</td>\n",
       "      <td>19.0</td>\n",
       "      <td>1.351526</td>\n",
       "      <td></td>\n",
       "      <td>18.5</td>\n",
       "      <td>1.385856</td>\n",
       "      <td></td>\n",
       "      <td>18.5</td>\n",
       "      <td>1.395484</td>\n",
       "      <td></td>\n",
       "      <td></td>\n",
       "    </tr>\n",
       "    <tr>\n",
       "      <th>52</th>\n",
       "      <td>19.5</td>\n",
       "      <td>0.889752</td>\n",
       "      <td></td>\n",
       "      <td>19.5</td>\n",
       "      <td>0.892360</td>\n",
       "      <td></td>\n",
       "      <td>19.0</td>\n",
       "      <td>0.880874</td>\n",
       "      <td></td>\n",
       "      <td>20.0</td>\n",
       "      <td>...</td>\n",
       "      <td>19.5</td>\n",
       "      <td>1.324569</td>\n",
       "      <td></td>\n",
       "      <td>19.0</td>\n",
       "      <td>1.361998</td>\n",
       "      <td></td>\n",
       "      <td>19.0</td>\n",
       "      <td>1.371079</td>\n",
       "      <td></td>\n",
       "      <td></td>\n",
       "    </tr>\n",
       "  </tbody>\n",
       "</table>\n",
       "<p>5 rows × 145 columns</p>\n",
       "</div>"
      ],
      "text/plain": [
       "    Alpha  T1_Re0.050_M0.00_N9.0      Alpha  T1_Re0.070_M0.00_N9.0  .1  \\\n",
       "48   17.5               0.833164       17.5               0.878440       \n",
       "49   18.0               0.861466       18.0               0.851977       \n",
       "50   18.5               0.861321       18.5               0.870471       \n",
       "51   19.0               0.906854       19.0               0.902335       \n",
       "52   19.5               0.889752       19.5               0.892360       \n",
       "\n",
       "     Alpha.1  T1_Re0.090_M0.00_N9.0  .2   Alpha.2  ...   Alpha.44  \\\n",
       "48      17.0               0.864709          18.0  ...       17.5   \n",
       "49      17.5               0.843383          18.5  ...       18.0   \n",
       "50      18.0               0.864485          19.0  ...       18.5   \n",
       "51      18.5               0.893758          19.5  ...       19.0   \n",
       "52      19.0               0.880874          20.0  ...       19.5   \n",
       "\n",
       "   T1_Re0.950_M0.00_N9.0   .45   Alpha.45 T1_Re0.970_M0.00_N9.0   .46  \\\n",
       "48              1.415771             17.0              1.441254         \n",
       "49              1.397626             17.5              1.425930         \n",
       "50              1.376234             18.0              1.408464         \n",
       "51              1.351526             18.5              1.385856         \n",
       "52              1.324569             19.0              1.361998         \n",
       "\n",
       "     Alpha.46 T1_Re0.990_M0.00_N9.0   .47   .48  \n",
       "48       17.0              1.450787              \n",
       "49       17.5              1.436161              \n",
       "50       18.0              1.418139              \n",
       "51       18.5              1.395484              \n",
       "52       19.0              1.371079              \n",
       "\n",
       "[5 rows x 145 columns]"
      ]
     },
     "execution_count": 4,
     "metadata": {},
     "output_type": "execute_result"
    }
   ],
   "source": [
    "data.tail()"
   ]
  },
  {
   "cell_type": "code",
   "execution_count": 5,
   "id": "b441177f",
   "metadata": {},
   "outputs": [
    {
     "name": "stdout",
     "output_type": "stream",
     "text": [
      "<class 'pandas.core.frame.DataFrame'>\n",
      "RangeIndex: 53 entries, 0 to 52\n",
      "Columns: 145 entries, Alpha to  .48\n",
      "dtypes: float64(96), object(49)\n",
      "memory usage: 60.2+ KB\n"
     ]
    }
   ],
   "source": [
    "data.info()"
   ]
  },
  {
   "cell_type": "code",
   "execution_count": 6,
   "id": "183b1bf3",
   "metadata": {},
   "outputs": [],
   "source": [
    "data_empty = pd.DataFrame(np.zeros((2840,3), dtype=None))"
   ]
  },
  {
   "cell_type": "code",
   "execution_count": 7,
   "id": "803b4cc2",
   "metadata": {},
   "outputs": [],
   "source": [
    "data_empty.rename(columns = {0:'Reynolds No',1:'Angle of Attack',2:'Cl'}, inplace = True)"
   ]
  },
  {
   "cell_type": "code",
   "execution_count": 8,
   "id": "fb3797bf",
   "metadata": {},
   "outputs": [
    {
     "data": {
      "text/html": [
       "<div>\n",
       "<style scoped>\n",
       "    .dataframe tbody tr th:only-of-type {\n",
       "        vertical-align: middle;\n",
       "    }\n",
       "\n",
       "    .dataframe tbody tr th {\n",
       "        vertical-align: top;\n",
       "    }\n",
       "\n",
       "    .dataframe thead th {\n",
       "        text-align: right;\n",
       "    }\n",
       "</style>\n",
       "<table border=\"1\" class=\"dataframe\">\n",
       "  <thead>\n",
       "    <tr style=\"text-align: right;\">\n",
       "      <th></th>\n",
       "      <th>Reynolds No</th>\n",
       "      <th>Angle of Attack</th>\n",
       "      <th>Cl</th>\n",
       "    </tr>\n",
       "  </thead>\n",
       "  <tbody>\n",
       "    <tr>\n",
       "      <th>0</th>\n",
       "      <td>0.0</td>\n",
       "      <td>0.0</td>\n",
       "      <td>0.0</td>\n",
       "    </tr>\n",
       "    <tr>\n",
       "      <th>1</th>\n",
       "      <td>0.0</td>\n",
       "      <td>0.0</td>\n",
       "      <td>0.0</td>\n",
       "    </tr>\n",
       "    <tr>\n",
       "      <th>2</th>\n",
       "      <td>0.0</td>\n",
       "      <td>0.0</td>\n",
       "      <td>0.0</td>\n",
       "    </tr>\n",
       "    <tr>\n",
       "      <th>3</th>\n",
       "      <td>0.0</td>\n",
       "      <td>0.0</td>\n",
       "      <td>0.0</td>\n",
       "    </tr>\n",
       "    <tr>\n",
       "      <th>4</th>\n",
       "      <td>0.0</td>\n",
       "      <td>0.0</td>\n",
       "      <td>0.0</td>\n",
       "    </tr>\n",
       "  </tbody>\n",
       "</table>\n",
       "</div>"
      ],
      "text/plain": [
       "   Reynolds No  Angle of Attack   Cl\n",
       "0          0.0              0.0  0.0\n",
       "1          0.0              0.0  0.0\n",
       "2          0.0              0.0  0.0\n",
       "3          0.0              0.0  0.0\n",
       "4          0.0              0.0  0.0"
      ]
     },
     "execution_count": 8,
     "metadata": {},
     "output_type": "execute_result"
    }
   ],
   "source": [
    "data_empty.head()"
   ]
  },
  {
   "cell_type": "code",
   "execution_count": 9,
   "id": "784ca3fe",
   "metadata": {},
   "outputs": [
    {
     "name": "stdout",
     "output_type": "stream",
     "text": [
      "11.0\n"
     ]
    }
   ],
   "source": [
    "print(data.iloc[36,3])"
   ]
  },
  {
   "cell_type": "code",
   "execution_count": 9,
   "id": "5fb44749",
   "metadata": {},
   "outputs": [],
   "source": [
    "r=50000\n",
    "c=0\n",
    "k=0\n",
    "while r<=400000:\n",
    "    for i in range(0,40):\n",
    "        val1 = data.iloc[i,c]\n",
    "        val2 = data.iloc[i,c+1]\n",
    "        data_empty.iloc[k,1] = val1\n",
    "        data_empty.iloc[k,2] = val2\n",
    "        data_empty.iloc[k,0] = r\n",
    "        k=k+1\n",
    "    r=r+20000\n",
    "    c=c+3\n",
    "        "
   ]
  },
  {
   "cell_type": "code",
   "execution_count": 11,
   "id": "6a8d06ce",
   "metadata": {},
   "outputs": [
    {
     "data": {
      "text/html": [
       "<div>\n",
       "<style scoped>\n",
       "    .dataframe tbody tr th:only-of-type {\n",
       "        vertical-align: middle;\n",
       "    }\n",
       "\n",
       "    .dataframe tbody tr th {\n",
       "        vertical-align: top;\n",
       "    }\n",
       "\n",
       "    .dataframe thead th {\n",
       "        text-align: right;\n",
       "    }\n",
       "</style>\n",
       "<table border=\"1\" class=\"dataframe\">\n",
       "  <thead>\n",
       "    <tr style=\"text-align: right;\">\n",
       "      <th></th>\n",
       "      <th>Reynolds No</th>\n",
       "      <th>Angle of Attack</th>\n",
       "      <th>Cl</th>\n",
       "    </tr>\n",
       "  </thead>\n",
       "  <tbody>\n",
       "    <tr>\n",
       "      <th>2835</th>\n",
       "      <td>0.0</td>\n",
       "      <td>0.0</td>\n",
       "      <td>0.0</td>\n",
       "    </tr>\n",
       "    <tr>\n",
       "      <th>2836</th>\n",
       "      <td>0.0</td>\n",
       "      <td>0.0</td>\n",
       "      <td>0.0</td>\n",
       "    </tr>\n",
       "    <tr>\n",
       "      <th>2837</th>\n",
       "      <td>0.0</td>\n",
       "      <td>0.0</td>\n",
       "      <td>0.0</td>\n",
       "    </tr>\n",
       "    <tr>\n",
       "      <th>2838</th>\n",
       "      <td>0.0</td>\n",
       "      <td>0.0</td>\n",
       "      <td>0.0</td>\n",
       "    </tr>\n",
       "    <tr>\n",
       "      <th>2839</th>\n",
       "      <td>0.0</td>\n",
       "      <td>0.0</td>\n",
       "      <td>0.0</td>\n",
       "    </tr>\n",
       "  </tbody>\n",
       "</table>\n",
       "</div>"
      ],
      "text/plain": [
       "      Reynolds No  Angle of Attack   Cl\n",
       "2835          0.0              0.0  0.0\n",
       "2836          0.0              0.0  0.0\n",
       "2837          0.0              0.0  0.0\n",
       "2838          0.0              0.0  0.0\n",
       "2839          0.0              0.0  0.0"
      ]
     },
     "execution_count": 11,
     "metadata": {},
     "output_type": "execute_result"
    }
   ],
   "source": [
    "data_empty.tail()"
   ]
  },
  {
   "cell_type": "code",
   "execution_count": 12,
   "id": "9a9f1b33",
   "metadata": {},
   "outputs": [],
   "source": [
    "target = data_empty.iloc[:,2]"
   ]
  },
  {
   "cell_type": "code",
   "execution_count": 13,
   "id": "91accbcd",
   "metadata": {},
   "outputs": [
    {
     "data": {
      "text/plain": [
       "0   -0.766721\n",
       "1   -0.727267\n",
       "2   -0.690420\n",
       "3   -0.653650\n",
       "4   -0.617909\n",
       "Name: Cl, dtype: float64"
      ]
     },
     "execution_count": 13,
     "metadata": {},
     "output_type": "execute_result"
    }
   ],
   "source": [
    "target.head()"
   ]
  },
  {
   "cell_type": "code",
   "execution_count": 14,
   "id": "15952b36",
   "metadata": {},
   "outputs": [],
   "source": [
    "train_set = data_empty.copy(deep=True)"
   ]
  },
  {
   "cell_type": "code",
   "execution_count": 15,
   "id": "a47960db",
   "metadata": {},
   "outputs": [],
   "source": [
    "train_set.drop('Cl',axis=1,inplace=True)"
   ]
  },
  {
   "cell_type": "code",
   "execution_count": 16,
   "id": "9d3da1a4",
   "metadata": {},
   "outputs": [
    {
     "data": {
      "text/html": [
       "<div>\n",
       "<style scoped>\n",
       "    .dataframe tbody tr th:only-of-type {\n",
       "        vertical-align: middle;\n",
       "    }\n",
       "\n",
       "    .dataframe tbody tr th {\n",
       "        vertical-align: top;\n",
       "    }\n",
       "\n",
       "    .dataframe thead th {\n",
       "        text-align: right;\n",
       "    }\n",
       "</style>\n",
       "<table border=\"1\" class=\"dataframe\">\n",
       "  <thead>\n",
       "    <tr style=\"text-align: right;\">\n",
       "      <th></th>\n",
       "      <th>Reynolds No</th>\n",
       "      <th>Angle of Attack</th>\n",
       "    </tr>\n",
       "  </thead>\n",
       "  <tbody>\n",
       "    <tr>\n",
       "      <th>0</th>\n",
       "      <td>50000.0</td>\n",
       "      <td>-7.0</td>\n",
       "    </tr>\n",
       "    <tr>\n",
       "      <th>1</th>\n",
       "      <td>50000.0</td>\n",
       "      <td>-6.5</td>\n",
       "    </tr>\n",
       "    <tr>\n",
       "      <th>2</th>\n",
       "      <td>50000.0</td>\n",
       "      <td>-6.0</td>\n",
       "    </tr>\n",
       "    <tr>\n",
       "      <th>3</th>\n",
       "      <td>50000.0</td>\n",
       "      <td>-5.5</td>\n",
       "    </tr>\n",
       "    <tr>\n",
       "      <th>4</th>\n",
       "      <td>50000.0</td>\n",
       "      <td>-5.0</td>\n",
       "    </tr>\n",
       "  </tbody>\n",
       "</table>\n",
       "</div>"
      ],
      "text/plain": [
       "   Reynolds No  Angle of Attack\n",
       "0      50000.0             -7.0\n",
       "1      50000.0             -6.5\n",
       "2      50000.0             -6.0\n",
       "3      50000.0             -5.5\n",
       "4      50000.0             -5.0"
      ]
     },
     "execution_count": 16,
     "metadata": {},
     "output_type": "execute_result"
    }
   ],
   "source": [
    "train_set.head()"
   ]
  },
  {
   "cell_type": "code",
   "execution_count": 17,
   "id": "39880bca",
   "metadata": {},
   "outputs": [
    {
     "data": {
      "text/plain": [
       "LinearRegression()"
      ]
     },
     "execution_count": 17,
     "metadata": {},
     "output_type": "execute_result"
    }
   ],
   "source": [
    "from sklearn.linear_model import LinearRegression\n",
    "lin_reg = LinearRegression()\n",
    "lin_reg.fit(train_set,target)"
   ]
  },
  {
   "cell_type": "code",
   "execution_count": 18,
   "id": "cdd85dfa",
   "metadata": {},
   "outputs": [],
   "source": [
    "import matplotlib.pyplot as plt"
   ]
  },
  {
   "cell_type": "code",
   "execution_count": 19,
   "id": "789a166e",
   "metadata": {},
   "outputs": [],
   "source": [
    "test_data=pd.read_csv(\"Desktop/test.csv\")"
   ]
  },
  {
   "cell_type": "code",
   "execution_count": 20,
   "id": "efeb6416",
   "metadata": {},
   "outputs": [
    {
     "data": {
      "text/plain": [
       "<AxesSubplot:xlabel='Angle of Attack'>"
      ]
     },
     "execution_count": 20,
     "metadata": {},
     "output_type": "execute_result"
    },
    {
     "data": {
      "image/png": "[encoded data removed]",
      "text/plain": [
       "<Figure size 432x288 with 1 Axes>"
      ]
     },
     "metadata": {
      "needs_background": "light"
     },
     "output_type": "display_data"
    }
   ],
   "source": [
    "test_data.plot(x='Angle of Attack',y='Cl',color='black')"
   ]
  },
  {
   "cell_type": "code",
   "execution_count": 21,
   "id": "aa611056",
   "metadata": {},
   "outputs": [
    {
     "data": {
      "text/html": [
       "<div>\n",
       "<style scoped>\n",
       "    .dataframe tbody tr th:only-of-type {\n",
       "        vertical-align: middle;\n",
       "    }\n",
       "\n",
       "    .dataframe tbody tr th {\n",
       "        vertical-align: top;\n",
       "    }\n",
       "\n",
       "    .dataframe thead th {\n",
       "        text-align: right;\n",
       "    }\n",
       "</style>\n",
       "<table border=\"1\" class=\"dataframe\">\n",
       "  <thead>\n",
       "    <tr style=\"text-align: right;\">\n",
       "      <th></th>\n",
       "      <th>Reynolds No</th>\n",
       "      <th>Angle of Attack</th>\n",
       "    </tr>\n",
       "  </thead>\n",
       "  <tbody>\n",
       "    <tr>\n",
       "      <th>0</th>\n",
       "      <td>124350</td>\n",
       "      <td>-7.0</td>\n",
       "    </tr>\n",
       "    <tr>\n",
       "      <th>1</th>\n",
       "      <td>124350</td>\n",
       "      <td>-6.5</td>\n",
       "    </tr>\n",
       "    <tr>\n",
       "      <th>2</th>\n",
       "      <td>124350</td>\n",
       "      <td>-6.0</td>\n",
       "    </tr>\n",
       "    <tr>\n",
       "      <th>3</th>\n",
       "      <td>124350</td>\n",
       "      <td>-5.5</td>\n",
       "    </tr>\n",
       "    <tr>\n",
       "      <th>4</th>\n",
       "      <td>124350</td>\n",
       "      <td>-5.0</td>\n",
       "    </tr>\n",
       "  </tbody>\n",
       "</table>\n",
       "</div>"
      ],
      "text/plain": [
       "   Reynolds No  Angle of Attack\n",
       "0       124350             -7.0\n",
       "1       124350             -6.5\n",
       "2       124350             -6.0\n",
       "3       124350             -5.5\n",
       "4       124350             -5.0"
      ]
     },
     "execution_count": 21,
     "metadata": {},
     "output_type": "execute_result"
    }
   ],
   "source": [
    "test_set=test_data.drop('Cl',axis=1)\n",
    "test_set.head()"
   ]
  },
  {
   "cell_type": "code",
   "execution_count": 22,
   "id": "e9445d90",
   "metadata": {},
   "outputs": [],
   "source": [
    "pred_Cl = lin_reg.predict(test_set)"
   ]
  },
  {
   "cell_type": "code",
   "execution_count": 23,
   "id": "2039336a",
   "metadata": {},
   "outputs": [],
   "source": [
    "df = pd.DataFrame(pred_Cl)"
   ]
  },
  {
   "cell_type": "code",
   "execution_count": 24,
   "id": "df47e790",
   "metadata": {},
   "outputs": [],
   "source": [
    "test_set[\"Cl\"] = pred_Cl"
   ]
  },
  {
   "cell_type": "code",
   "execution_count": 25,
   "id": "24d666c6",
   "metadata": {},
   "outputs": [
    {
     "data": {
      "text/html": [
       "<div>\n",
       "<style scoped>\n",
       "    .dataframe tbody tr th:only-of-type {\n",
       "        vertical-align: middle;\n",
       "    }\n",
       "\n",
       "    .dataframe tbody tr th {\n",
       "        vertical-align: top;\n",
       "    }\n",
       "\n",
       "    .dataframe thead th {\n",
       "        text-align: right;\n",
       "    }\n",
       "</style>\n",
       "<table border=\"1\" class=\"dataframe\">\n",
       "  <thead>\n",
       "    <tr style=\"text-align: right;\">\n",
       "      <th></th>\n",
       "      <th>Reynolds No</th>\n",
       "      <th>Angle of Attack</th>\n",
       "      <th>Cl</th>\n",
       "    </tr>\n",
       "  </thead>\n",
       "  <tbody>\n",
       "    <tr>\n",
       "      <th>0</th>\n",
       "      <td>124350</td>\n",
       "      <td>-7.0</td>\n",
       "      <td>-0.75946</td>\n",
       "    </tr>\n",
       "    <tr>\n",
       "      <th>1</th>\n",
       "      <td>124350</td>\n",
       "      <td>-6.5</td>\n",
       "      <td>-0.70814</td>\n",
       "    </tr>\n",
       "    <tr>\n",
       "      <th>2</th>\n",
       "      <td>124350</td>\n",
       "      <td>-6.0</td>\n",
       "      <td>-0.65682</td>\n",
       "    </tr>\n",
       "    <tr>\n",
       "      <th>3</th>\n",
       "      <td>124350</td>\n",
       "      <td>-5.5</td>\n",
       "      <td>-0.60550</td>\n",
       "    </tr>\n",
       "    <tr>\n",
       "      <th>4</th>\n",
       "      <td>124350</td>\n",
       "      <td>-5.0</td>\n",
       "      <td>-0.55418</td>\n",
       "    </tr>\n",
       "  </tbody>\n",
       "</table>\n",
       "</div>"
      ],
      "text/plain": [
       "   Reynolds No  Angle of Attack       Cl\n",
       "0       124350             -7.0 -0.75946\n",
       "1       124350             -6.5 -0.70814\n",
       "2       124350             -6.0 -0.65682\n",
       "3       124350             -5.5 -0.60550\n",
       "4       124350             -5.0 -0.55418"
      ]
     },
     "execution_count": 25,
     "metadata": {},
     "output_type": "execute_result"
    }
   ],
   "source": [
    "test_set.head()"
   ]
  },
  {
   "cell_type": "code",
   "execution_count": 26,
   "id": "e56a7bd3",
   "metadata": {},
   "outputs": [
    {
     "data": {
      "text/plain": [
       "<AxesSubplot:xlabel='Angle of Attack', ylabel='Cl'>"
      ]
     },
     "execution_count": 26,
     "metadata": {},
     "output_type": "execute_result"
    },
    {
     "data": {
      "image/png": "[encoded data removed]",
      "text/plain": [
       "<Figure size 432x288 with 1 Axes>"
      ]
     },
     "metadata": {
      "needs_background": "light"
     },
     "output_type": "display_data"
    }
   ],
   "source": [
    "ax = plt.gca()\n",
    "test_data.plot(x='Angle of Attack',y='Cl',color='black',kind='scatter',ax=ax)\n",
    "test_set.plot(x='Angle of Attack',y='Cl',color='blue',ax=ax)"
   ]
  },
  {
   "cell_type": "code",
   "execution_count": 182,
   "id": "97a441e3",
   "metadata": {},
   "outputs": [],
   "source": [
    "Cl_actual=test_data.iloc[:,2:].values"
   ]
  },
  {
   "cell_type": "code",
   "execution_count": 184,
   "id": "a8cd4eab",
   "metadata": {},
   "outputs": [
    {
     "data": {
      "text/plain": [
       "0.015010541058708285"
      ]
     },
     "execution_count": 184,
     "metadata": {},
     "output_type": "execute_result"
    }
   ],
   "source": [
    "from sklearn.metrics import mean_squared_error\n",
    "mean_squared_error(Cl_actual, pred_Cl)"
   ]
  },
  {
   "cell_type": "markdown",
   "id": "d3e9b6c8",
   "metadata": {},
   "source": [
    "# Curve Optimization\n",
    "\n",
    "The present curves underfit the data and polynomial regression on the whole dataset will not work properly. Looking at the data one of the option is to split the data into four sections based on Angle of Attack. The first, second and third section will work well with Linear Regression and the fourth section can be fitted with second order polynomial."
   ]
  },
  {
   "cell_type": "code",
   "execution_count": 152,
   "id": "36ee2e38",
   "metadata": {},
   "outputs": [],
   "source": [
    "data_1 = pd.DataFrame(np.zeros((760,3),dtype=None))\n",
    "data_2 = pd.DataFrame(np.zeros((349,3),dtype=None))\n",
    "data_3 = pd.DataFrame(np.zeros((1059,3),dtype=None))\n",
    "data_4 = pd.DataFrame(np.zeros((601,3),dtype=None))"
   ]
  },
  {
   "cell_type": "code",
   "execution_count": 153,
   "id": "e8cbd7ae",
   "metadata": {},
   "outputs": [
    {
     "data": {
      "text/html": [
       "<div>\n",
       "<style scoped>\n",
       "    .dataframe tbody tr th:only-of-type {\n",
       "        vertical-align: middle;\n",
       "    }\n",
       "\n",
       "    .dataframe tbody tr th {\n",
       "        vertical-align: top;\n",
       "    }\n",
       "\n",
       "    .dataframe thead th {\n",
       "        text-align: right;\n",
       "    }\n",
       "</style>\n",
       "<table border=\"1\" class=\"dataframe\">\n",
       "  <thead>\n",
       "    <tr style=\"text-align: right;\">\n",
       "      <th></th>\n",
       "      <th>Reynolds No</th>\n",
       "      <th>Angle of Attack</th>\n",
       "      <th>Cl</th>\n",
       "    </tr>\n",
       "  </thead>\n",
       "  <tbody>\n",
       "    <tr>\n",
       "      <th>0</th>\n",
       "      <td>50000.0</td>\n",
       "      <td>-7.0</td>\n",
       "      <td>-0.766721</td>\n",
       "    </tr>\n",
       "    <tr>\n",
       "      <th>1</th>\n",
       "      <td>50000.0</td>\n",
       "      <td>-6.5</td>\n",
       "      <td>-0.727267</td>\n",
       "    </tr>\n",
       "    <tr>\n",
       "      <th>2</th>\n",
       "      <td>50000.0</td>\n",
       "      <td>-6.0</td>\n",
       "      <td>-0.690420</td>\n",
       "    </tr>\n",
       "    <tr>\n",
       "      <th>3</th>\n",
       "      <td>50000.0</td>\n",
       "      <td>-5.5</td>\n",
       "      <td>-0.653650</td>\n",
       "    </tr>\n",
       "    <tr>\n",
       "      <th>4</th>\n",
       "      <td>50000.0</td>\n",
       "      <td>-5.0</td>\n",
       "      <td>-0.617909</td>\n",
       "    </tr>\n",
       "  </tbody>\n",
       "</table>\n",
       "</div>"
      ],
      "text/plain": [
       "   Reynolds No  Angle of Attack        Cl\n",
       "0      50000.0             -7.0 -0.766721\n",
       "1      50000.0             -6.5 -0.727267\n",
       "2      50000.0             -6.0 -0.690420\n",
       "3      50000.0             -5.5 -0.653650\n",
       "4      50000.0             -5.0 -0.617909"
      ]
     },
     "execution_count": 153,
     "metadata": {},
     "output_type": "execute_result"
    }
   ],
   "source": [
    "data_empty.head()"
   ]
  },
  {
   "cell_type": "code",
   "execution_count": 154,
   "id": "5d9edc08",
   "metadata": {},
   "outputs": [],
   "source": [
    "c1=0\n",
    "c2=0\n",
    "c3=0\n",
    "c4=0\n",
    "for i in range(0,2840):\n",
    "    if(data_empty.iloc[i,1]>-7 and data_empty.iloc[i,1]<-1):\n",
    "        var_1 = data_empty.iloc[i,0]\n",
    "        var_2 = data_empty.iloc[i,1]\n",
    "        var_3 = data_empty.iloc[i,2]\n",
    "        data_1.iloc[c1,0] = var_1\n",
    "        data_1.iloc[c1,1] = var_2\n",
    "        data_1.iloc[c1,2] = var_3\n",
    "        c1=c1+1\n",
    "    if(data_empty.iloc[i,1]>=-1 and data_empty.iloc[i,1]<=1):\n",
    "        var_1 = data_empty.iloc[i,0]\n",
    "        var_2 = data_empty.iloc[i,1]\n",
    "        var_3 = data_empty.iloc[i,2]\n",
    "        data_2.iloc[c2,0] = var_1\n",
    "        data_2.iloc[c2,1] = var_2\n",
    "        data_2.iloc[c2,2] = var_3\n",
    "        c2=c2+1\n",
    "    if(data_empty.iloc[i,1]>1 and data_empty.iloc[i,1]<9):\n",
    "        var_1 = data_empty.iloc[i,0]\n",
    "        var_2 = data_empty.iloc[i,1]\n",
    "        var_3 = data_empty.iloc[i,2]\n",
    "        data_3.iloc[c3,0] = var_1\n",
    "        data_3.iloc[c3,1] = var_2\n",
    "        data_3.iloc[c3,2] = var_3\n",
    "        c3=c3+1\n",
    "    if(data_empty.iloc[i,1]>=9):\n",
    "        var_1 = data_empty.iloc[i,0]\n",
    "        var_2 = data_empty.iloc[i,1]\n",
    "        var_3 = data_empty.iloc[i,2]\n",
    "        data_4.iloc[c4,0] = var_1\n",
    "        data_4.iloc[c4,1] = var_2\n",
    "        data_4.iloc[c4,2] = var_3\n",
    "        c4=c4+1\n",
    "    "
   ]
  },
  {
   "cell_type": "code",
   "execution_count": 155,
   "id": "021aafd2",
   "metadata": {},
   "outputs": [
    {
     "data": {
      "text/html": [
       "<div>\n",
       "<style scoped>\n",
       "    .dataframe tbody tr th:only-of-type {\n",
       "        vertical-align: middle;\n",
       "    }\n",
       "\n",
       "    .dataframe tbody tr th {\n",
       "        vertical-align: top;\n",
       "    }\n",
       "\n",
       "    .dataframe thead th {\n",
       "        text-align: right;\n",
       "    }\n",
       "</style>\n",
       "<table border=\"1\" class=\"dataframe\">\n",
       "  <thead>\n",
       "    <tr style=\"text-align: right;\">\n",
       "      <th></th>\n",
       "      <th>0</th>\n",
       "      <th>1</th>\n",
       "      <th>2</th>\n",
       "    </tr>\n",
       "  </thead>\n",
       "  <tbody>\n",
       "    <tr>\n",
       "      <th>0</th>\n",
       "      <td>50000.0</td>\n",
       "      <td>9.0</td>\n",
       "      <td>0.854508</td>\n",
       "    </tr>\n",
       "    <tr>\n",
       "      <th>1</th>\n",
       "      <td>50000.0</td>\n",
       "      <td>9.5</td>\n",
       "      <td>0.829123</td>\n",
       "    </tr>\n",
       "    <tr>\n",
       "      <th>2</th>\n",
       "      <td>50000.0</td>\n",
       "      <td>10.0</td>\n",
       "      <td>0.794088</td>\n",
       "    </tr>\n",
       "    <tr>\n",
       "      <th>3</th>\n",
       "      <td>50000.0</td>\n",
       "      <td>11.0</td>\n",
       "      <td>0.579317</td>\n",
       "    </tr>\n",
       "    <tr>\n",
       "      <th>4</th>\n",
       "      <td>50000.0</td>\n",
       "      <td>11.5</td>\n",
       "      <td>0.647793</td>\n",
       "    </tr>\n",
       "    <tr>\n",
       "      <th>...</th>\n",
       "      <td>...</td>\n",
       "      <td>...</td>\n",
       "      <td>...</td>\n",
       "    </tr>\n",
       "    <tr>\n",
       "      <th>596</th>\n",
       "      <td>400000.0</td>\n",
       "      <td>10.5</td>\n",
       "      <td>1.064968</td>\n",
       "    </tr>\n",
       "    <tr>\n",
       "      <th>597</th>\n",
       "      <td>400000.0</td>\n",
       "      <td>11.0</td>\n",
       "      <td>1.097733</td>\n",
       "    </tr>\n",
       "    <tr>\n",
       "      <th>598</th>\n",
       "      <td>400000.0</td>\n",
       "      <td>11.5</td>\n",
       "      <td>1.112638</td>\n",
       "    </tr>\n",
       "    <tr>\n",
       "      <th>599</th>\n",
       "      <td>400000.0</td>\n",
       "      <td>12.0</td>\n",
       "      <td>1.135668</td>\n",
       "    </tr>\n",
       "    <tr>\n",
       "      <th>600</th>\n",
       "      <td>400000.0</td>\n",
       "      <td>12.5</td>\n",
       "      <td>1.150235</td>\n",
       "    </tr>\n",
       "  </tbody>\n",
       "</table>\n",
       "<p>601 rows × 3 columns</p>\n",
       "</div>"
      ],
      "text/plain": [
       "            0     1         2\n",
       "0     50000.0   9.0  0.854508\n",
       "1     50000.0   9.5  0.829123\n",
       "2     50000.0  10.0  0.794088\n",
       "3     50000.0  11.0  0.579317\n",
       "4     50000.0  11.5  0.647793\n",
       "..        ...   ...       ...\n",
       "596  400000.0  10.5  1.064968\n",
       "597  400000.0  11.0  1.097733\n",
       "598  400000.0  11.5  1.112638\n",
       "599  400000.0  12.0  1.135668\n",
       "600  400000.0  12.5  1.150235\n",
       "\n",
       "[601 rows x 3 columns]"
      ]
     },
     "execution_count": 155,
     "metadata": {},
     "output_type": "execute_result"
    }
   ],
   "source": [
    "data_4.head(605)"
   ]
  },
  {
   "cell_type": "code",
   "execution_count": 156,
   "id": "32c35ac8",
   "metadata": {},
   "outputs": [],
   "source": [
    "train_set_1 = data_1.copy(deep=True)\n",
    "train_set_2 = data_2.copy(deep=True)\n",
    "train_set_3 = data_3.copy(deep=True)\n",
    "train_set_4 = data_4.copy(deep=True)"
   ]
  },
  {
   "cell_type": "code",
   "execution_count": 157,
   "id": "69bc3c00",
   "metadata": {},
   "outputs": [],
   "source": [
    "target_1 = data_1.iloc[:,2]\n",
    "target_2 = data_2.iloc[:,2]\n",
    "target_3 = data_3.iloc[:,2]\n",
    "target_4 = data_4.iloc[:,2]"
   ]
  },
  {
   "cell_type": "code",
   "execution_count": 158,
   "id": "de8515af",
   "metadata": {},
   "outputs": [
    {
     "data": {
      "text/plain": [
       "0     -0.727267\n",
       "1     -0.690420\n",
       "2     -0.653650\n",
       "3     -0.617909\n",
       "4     -0.581002\n",
       "         ...   \n",
       "755   -0.432562\n",
       "756   -0.357622\n",
       "757   -0.280691\n",
       "758   -0.215691\n",
       "759   -0.156813\n",
       "Name: 2, Length: 760, dtype: float64"
      ]
     },
     "execution_count": 158,
     "metadata": {},
     "output_type": "execute_result"
    }
   ],
   "source": [
    "target_1"
   ]
  },
  {
   "cell_type": "code",
   "execution_count": 159,
   "id": "e19b7a2b",
   "metadata": {},
   "outputs": [],
   "source": [
    "train_set_1.drop(2,axis=1,inplace=True)\n",
    "train_set_2.drop(2,axis=1,inplace=True)\n",
    "train_set_3.drop(2,axis=1,inplace=True)\n",
    "train_set_4.drop(2,axis=1,inplace=True)"
   ]
  },
  {
   "cell_type": "code",
   "execution_count": 160,
   "id": "62cce726",
   "metadata": {},
   "outputs": [
    {
     "data": {
      "text/html": [
       "<div>\n",
       "<style scoped>\n",
       "    .dataframe tbody tr th:only-of-type {\n",
       "        vertical-align: middle;\n",
       "    }\n",
       "\n",
       "    .dataframe tbody tr th {\n",
       "        vertical-align: top;\n",
       "    }\n",
       "\n",
       "    .dataframe thead th {\n",
       "        text-align: right;\n",
       "    }\n",
       "</style>\n",
       "<table border=\"1\" class=\"dataframe\">\n",
       "  <thead>\n",
       "    <tr style=\"text-align: right;\">\n",
       "      <th></th>\n",
       "      <th>0</th>\n",
       "      <th>1</th>\n",
       "    </tr>\n",
       "  </thead>\n",
       "  <tbody>\n",
       "    <tr>\n",
       "      <th>0</th>\n",
       "      <td>50000.0</td>\n",
       "      <td>-6.5</td>\n",
       "    </tr>\n",
       "    <tr>\n",
       "      <th>1</th>\n",
       "      <td>50000.0</td>\n",
       "      <td>-6.0</td>\n",
       "    </tr>\n",
       "    <tr>\n",
       "      <th>2</th>\n",
       "      <td>50000.0</td>\n",
       "      <td>-5.5</td>\n",
       "    </tr>\n",
       "    <tr>\n",
       "      <th>3</th>\n",
       "      <td>50000.0</td>\n",
       "      <td>-5.0</td>\n",
       "    </tr>\n",
       "    <tr>\n",
       "      <th>4</th>\n",
       "      <td>50000.0</td>\n",
       "      <td>-4.5</td>\n",
       "    </tr>\n",
       "    <tr>\n",
       "      <th>...</th>\n",
       "      <td>...</td>\n",
       "      <td>...</td>\n",
       "    </tr>\n",
       "    <tr>\n",
       "      <th>755</th>\n",
       "      <td>400000.0</td>\n",
       "      <td>-3.5</td>\n",
       "    </tr>\n",
       "    <tr>\n",
       "      <th>756</th>\n",
       "      <td>400000.0</td>\n",
       "      <td>-3.0</td>\n",
       "    </tr>\n",
       "    <tr>\n",
       "      <th>757</th>\n",
       "      <td>400000.0</td>\n",
       "      <td>-2.5</td>\n",
       "    </tr>\n",
       "    <tr>\n",
       "      <th>758</th>\n",
       "      <td>400000.0</td>\n",
       "      <td>-2.0</td>\n",
       "    </tr>\n",
       "    <tr>\n",
       "      <th>759</th>\n",
       "      <td>400000.0</td>\n",
       "      <td>-1.5</td>\n",
       "    </tr>\n",
       "  </tbody>\n",
       "</table>\n",
       "<p>760 rows × 2 columns</p>\n",
       "</div>"
      ],
      "text/plain": [
       "            0    1\n",
       "0     50000.0 -6.5\n",
       "1     50000.0 -6.0\n",
       "2     50000.0 -5.5\n",
       "3     50000.0 -5.0\n",
       "4     50000.0 -4.5\n",
       "..        ...  ...\n",
       "755  400000.0 -3.5\n",
       "756  400000.0 -3.0\n",
       "757  400000.0 -2.5\n",
       "758  400000.0 -2.0\n",
       "759  400000.0 -1.5\n",
       "\n",
       "[760 rows x 2 columns]"
      ]
     },
     "execution_count": 160,
     "metadata": {},
     "output_type": "execute_result"
    }
   ],
   "source": [
    "train_set_1"
   ]
  },
  {
   "cell_type": "markdown",
   "id": "3f36f506",
   "metadata": {},
   "source": [
    "Creating Test Set from Test Data"
   ]
  },
  {
   "cell_type": "code",
   "execution_count": 167,
   "id": "a89701a2",
   "metadata": {},
   "outputs": [],
   "source": [
    "test_set_1=pd.DataFrame(np.zeros((12,2),dtype=None))\n",
    "test_set_2=pd.DataFrame(np.zeros((5,2),dtype=None))\n",
    "test_set_3=pd.DataFrame(np.zeros((15,2),dtype=None))\n",
    "test_set_4=pd.DataFrame(np.zeros((7,2),dtype=None))"
   ]
  },
  {
   "cell_type": "code",
   "execution_count": 168,
   "id": "64931473",
   "metadata": {},
   "outputs": [],
   "source": [
    "c1=0\n",
    "c2=0\n",
    "c3=0\n",
    "c4=0\n",
    "for i in range(0,39):\n",
    "    if(test_data.iloc[i,1]>=-7 and test_data.iloc[i,1]<-1):\n",
    "        var_1 = test_data.iloc[i,0]\n",
    "        var_2 = test_data.iloc[i,1]\n",
    "        #var_3 = test_data.iloc[i,2]\n",
    "        test_set_1.iloc[c1,0] = var_1\n",
    "        test_set_1.iloc[c1,1] = var_2\n",
    "       # data_1.iloc[c1,2] = var_3\n",
    "        c1=c1+1\n",
    "    if(test_data.iloc[i,1]>=-1 and test_data.iloc[i,1]<=1):\n",
    "        var_1 = test_data.iloc[i,0]\n",
    "        var_2 = test_data.iloc[i,1]\n",
    "        #var_3 = data_empty.iloc[i,2]\n",
    "        test_set_2.iloc[c2,0] = var_1\n",
    "        test_set_2.iloc[c2,1] = var_2\n",
    "        #data_2.iloc[c2,2] = var_3\n",
    "        c2=c2+1\n",
    "    if(test_data.iloc[i,1]>1 and test_data.iloc[i,1]<9):\n",
    "        var_1 = test_data.iloc[i,0]\n",
    "        var_2 = test_data.iloc[i,1]\n",
    "        #var_3 = data_empty.iloc[i,2]\n",
    "        test_set_3.iloc[c3,0] = var_1\n",
    "        test_set_3.iloc[c3,1] = var_2\n",
    "        #data_3.iloc[c3,2] = var_3\n",
    "        c3=c3+1\n",
    "    if(test_data.iloc[i,1]>=9):\n",
    "        var_1 = test_data.iloc[i,0]\n",
    "        var_2 = test_data.iloc[i,1]\n",
    "        #var_3 = data_empty.iloc[i,2]\n",
    "        test_set_4.iloc[c4,0] = var_1\n",
    "        test_set_4.iloc[c4,1] = var_2\n",
    "        #data_4.iloc[c4,2] = var_3\n",
    "        c4=c4+1"
   ]
  },
  {
   "cell_type": "code",
   "execution_count": 169,
   "id": "c7e5a615",
   "metadata": {},
   "outputs": [
    {
     "data": {
      "text/html": [
       "<div>\n",
       "<style scoped>\n",
       "    .dataframe tbody tr th:only-of-type {\n",
       "        vertical-align: middle;\n",
       "    }\n",
       "\n",
       "    .dataframe tbody tr th {\n",
       "        vertical-align: top;\n",
       "    }\n",
       "\n",
       "    .dataframe thead th {\n",
       "        text-align: right;\n",
       "    }\n",
       "</style>\n",
       "<table border=\"1\" class=\"dataframe\">\n",
       "  <thead>\n",
       "    <tr style=\"text-align: right;\">\n",
       "      <th></th>\n",
       "      <th>0</th>\n",
       "      <th>1</th>\n",
       "    </tr>\n",
       "  </thead>\n",
       "  <tbody>\n",
       "    <tr>\n",
       "      <th>0</th>\n",
       "      <td>124350.0</td>\n",
       "      <td>9.0</td>\n",
       "    </tr>\n",
       "    <tr>\n",
       "      <th>1</th>\n",
       "      <td>124350.0</td>\n",
       "      <td>9.5</td>\n",
       "    </tr>\n",
       "    <tr>\n",
       "      <th>2</th>\n",
       "      <td>124350.0</td>\n",
       "      <td>10.0</td>\n",
       "    </tr>\n",
       "    <tr>\n",
       "      <th>3</th>\n",
       "      <td>124350.0</td>\n",
       "      <td>10.5</td>\n",
       "    </tr>\n",
       "    <tr>\n",
       "      <th>4</th>\n",
       "      <td>124350.0</td>\n",
       "      <td>11.0</td>\n",
       "    </tr>\n",
       "    <tr>\n",
       "      <th>5</th>\n",
       "      <td>124350.0</td>\n",
       "      <td>11.5</td>\n",
       "    </tr>\n",
       "    <tr>\n",
       "      <th>6</th>\n",
       "      <td>124350.0</td>\n",
       "      <td>12.0</td>\n",
       "    </tr>\n",
       "  </tbody>\n",
       "</table>\n",
       "</div>"
      ],
      "text/plain": [
       "          0     1\n",
       "0  124350.0   9.0\n",
       "1  124350.0   9.5\n",
       "2  124350.0  10.0\n",
       "3  124350.0  10.5\n",
       "4  124350.0  11.0\n",
       "5  124350.0  11.5\n",
       "6  124350.0  12.0"
      ]
     },
     "execution_count": 169,
     "metadata": {},
     "output_type": "execute_result"
    }
   ],
   "source": [
    "test_set_4"
   ]
  },
  {
   "cell_type": "markdown",
   "id": "454165e4",
   "metadata": {},
   "source": [
    "# Training of Data"
   ]
  },
  {
   "cell_type": "code",
   "execution_count": 170,
   "id": "406d5194",
   "metadata": {},
   "outputs": [
    {
     "data": {
      "text/plain": [
       "LinearRegression()"
      ]
     },
     "execution_count": 170,
     "metadata": {},
     "output_type": "execute_result"
    }
   ],
   "source": [
    "from sklearn.linear_model import LinearRegression\n",
    "from sklearn.preprocessing import PolynomialFeatures\n",
    "\n",
    "\n",
    "# The first three data set will be trained with Linear Regression\n",
    "lin_reg_1 = LinearRegression()\n",
    "lin_reg_1.fit(train_set_1,target_1)\n",
    "lin_reg_2 = LinearRegression()\n",
    "lin_reg_2.fit(train_set_2,target_2)\n",
    "lin_reg_3 = LinearRegression()\n",
    "lin_reg_3.fit(train_set_3,target_3)\n",
    "\n",
    "# The fourth data set will be trained with polynomial Regression\n",
    "poly_reg = PolynomialFeatures(degree=2)\n",
    "poly_out = poly_reg.fit_transform(train_set_4)\n",
    "#poly_reg.fit(poly_out,target)\n",
    "pol_reg = LinearRegression()\n",
    "pol_reg.fit(poly_out, target_4)"
   ]
  },
  {
   "cell_type": "code",
   "execution_count": 171,
   "id": "3dbd6707",
   "metadata": {},
   "outputs": [],
   "source": [
    "pred_Cl_1 = lin_reg_1.predict(test_set_1)\n",
    "#pred_Cl_2 = lin_reg_2.predict(test_set_2)\n",
    "pred_Cl_3 = lin_reg_3.predict(test_set_3)"
   ]
  },
  {
   "cell_type": "code",
   "execution_count": 172,
   "id": "05236372",
   "metadata": {},
   "outputs": [],
   "source": [
    "poly_reg_4t = PolynomialFeatures(degree=2)\n",
    "poly_out_4t = poly_reg.fit_transform(test_set_4)\n",
    "pred_Cl_4 = pol_reg.predict(poly_out_4t)"
   ]
  },
  {
   "cell_type": "code",
   "execution_count": 173,
   "id": "b0d8bd52",
   "metadata": {},
   "outputs": [],
   "source": [
    "df_1=pd.DataFrame(pred_Cl_1)\n",
    "df_2=pd.DataFrame(pred_Cl_2)\n",
    "df_3=pd.DataFrame(pred_Cl_3)\n",
    "df_4=pd.DataFrame(pred_Cl_4)"
   ]
  },
  {
   "cell_type": "code",
   "execution_count": 174,
   "id": "04bdad56",
   "metadata": {},
   "outputs": [],
   "source": [
    "test_set_1[\"Cl\"] = pred_Cl_1\n",
    "test_set_2[\"Cl\"] = pred_Cl_2\n",
    "test_set_3[\"Cl\"] = pred_Cl_3\n",
    "test_set_4[\"Cl\"] = pred_Cl_4"
   ]
  },
  {
   "cell_type": "code",
   "execution_count": 175,
   "id": "789301a4",
   "metadata": {},
   "outputs": [],
   "source": [
    "test_set_1.rename(columns = {0:'Reynolds No',1:'Angle of Attack'}, inplace = True)\n",
    "test_set_2.rename(columns = {0:'Reynolds No',1:'Angle of Attack'}, inplace = True)\n",
    "test_set_3.rename(columns = {0:'Reynolds No',1:'Angle of Attack'}, inplace = True)\n",
    "test_set_4.rename(columns = {0:'Reynolds No',1:'Angle of Attack'}, inplace = True)"
   ]
  },
  {
   "cell_type": "code",
   "execution_count": 176,
   "id": "9df6519d",
   "metadata": {},
   "outputs": [
    {
     "data": {
      "text/html": [
       "<div>\n",
       "<style scoped>\n",
       "    .dataframe tbody tr th:only-of-type {\n",
       "        vertical-align: middle;\n",
       "    }\n",
       "\n",
       "    .dataframe tbody tr th {\n",
       "        vertical-align: top;\n",
       "    }\n",
       "\n",
       "    .dataframe thead th {\n",
       "        text-align: right;\n",
       "    }\n",
       "</style>\n",
       "<table border=\"1\" class=\"dataframe\">\n",
       "  <thead>\n",
       "    <tr style=\"text-align: right;\">\n",
       "      <th></th>\n",
       "      <th>Reynolds No</th>\n",
       "      <th>Angle of Attack</th>\n",
       "      <th>Cl</th>\n",
       "    </tr>\n",
       "  </thead>\n",
       "  <tbody>\n",
       "    <tr>\n",
       "      <th>0</th>\n",
       "      <td>124350.0</td>\n",
       "      <td>9.0</td>\n",
       "      <td>0.930631</td>\n",
       "    </tr>\n",
       "    <tr>\n",
       "      <th>1</th>\n",
       "      <td>124350.0</td>\n",
       "      <td>9.5</td>\n",
       "      <td>0.943709</td>\n",
       "    </tr>\n",
       "    <tr>\n",
       "      <th>2</th>\n",
       "      <td>124350.0</td>\n",
       "      <td>10.0</td>\n",
       "      <td>0.947690</td>\n",
       "    </tr>\n",
       "    <tr>\n",
       "      <th>3</th>\n",
       "      <td>124350.0</td>\n",
       "      <td>10.5</td>\n",
       "      <td>0.942576</td>\n",
       "    </tr>\n",
       "    <tr>\n",
       "      <th>4</th>\n",
       "      <td>124350.0</td>\n",
       "      <td>11.0</td>\n",
       "      <td>0.928366</td>\n",
       "    </tr>\n",
       "    <tr>\n",
       "      <th>5</th>\n",
       "      <td>124350.0</td>\n",
       "      <td>11.5</td>\n",
       "      <td>0.905061</td>\n",
       "    </tr>\n",
       "    <tr>\n",
       "      <th>6</th>\n",
       "      <td>124350.0</td>\n",
       "      <td>12.0</td>\n",
       "      <td>0.872659</td>\n",
       "    </tr>\n",
       "  </tbody>\n",
       "</table>\n",
       "</div>"
      ],
      "text/plain": [
       "   Reynolds No  Angle of Attack        Cl\n",
       "0     124350.0              9.0  0.930631\n",
       "1     124350.0              9.5  0.943709\n",
       "2     124350.0             10.0  0.947690\n",
       "3     124350.0             10.5  0.942576\n",
       "4     124350.0             11.0  0.928366\n",
       "5     124350.0             11.5  0.905061\n",
       "6     124350.0             12.0  0.872659"
      ]
     },
     "execution_count": 176,
     "metadata": {},
     "output_type": "execute_result"
    }
   ],
   "source": [
    "test_set_4"
   ]
  },
  {
   "cell_type": "code",
   "execution_count": 177,
   "id": "4316a626",
   "metadata": {},
   "outputs": [],
   "source": [
    "result_set = pd.concat([test_set_1, test_set_2, test_set_3, test_set_4], ignore_index=True)"
   ]
  },
  {
   "cell_type": "code",
   "execution_count": 178,
   "id": "26529170",
   "metadata": {},
   "outputs": [
    {
     "data": {
      "text/html": [
       "<div>\n",
       "<style scoped>\n",
       "    .dataframe tbody tr th:only-of-type {\n",
       "        vertical-align: middle;\n",
       "    }\n",
       "\n",
       "    .dataframe tbody tr th {\n",
       "        vertical-align: top;\n",
       "    }\n",
       "\n",
       "    .dataframe thead th {\n",
       "        text-align: right;\n",
       "    }\n",
       "</style>\n",
       "<table border=\"1\" class=\"dataframe\">\n",
       "  <thead>\n",
       "    <tr style=\"text-align: right;\">\n",
       "      <th></th>\n",
       "      <th>Reynolds No</th>\n",
       "      <th>Angle of Attack</th>\n",
       "      <th>Cl</th>\n",
       "    </tr>\n",
       "  </thead>\n",
       "  <tbody>\n",
       "    <tr>\n",
       "      <th>0</th>\n",
       "      <td>124350.0</td>\n",
       "      <td>-7.0</td>\n",
       "      <td>-0.830534</td>\n",
       "    </tr>\n",
       "    <tr>\n",
       "      <th>1</th>\n",
       "      <td>124350.0</td>\n",
       "      <td>-6.5</td>\n",
       "      <td>-0.779323</td>\n",
       "    </tr>\n",
       "    <tr>\n",
       "      <th>2</th>\n",
       "      <td>124350.0</td>\n",
       "      <td>-6.0</td>\n",
       "      <td>-0.728112</td>\n",
       "    </tr>\n",
       "    <tr>\n",
       "      <th>3</th>\n",
       "      <td>124350.0</td>\n",
       "      <td>-5.5</td>\n",
       "      <td>-0.676901</td>\n",
       "    </tr>\n",
       "    <tr>\n",
       "      <th>4</th>\n",
       "      <td>124350.0</td>\n",
       "      <td>-5.0</td>\n",
       "      <td>-0.625690</td>\n",
       "    </tr>\n",
       "    <tr>\n",
       "      <th>5</th>\n",
       "      <td>124350.0</td>\n",
       "      <td>-4.5</td>\n",
       "      <td>-0.574479</td>\n",
       "    </tr>\n",
       "    <tr>\n",
       "      <th>6</th>\n",
       "      <td>124350.0</td>\n",
       "      <td>-4.0</td>\n",
       "      <td>-0.523269</td>\n",
       "    </tr>\n",
       "    <tr>\n",
       "      <th>7</th>\n",
       "      <td>124350.0</td>\n",
       "      <td>-3.5</td>\n",
       "      <td>-0.472058</td>\n",
       "    </tr>\n",
       "    <tr>\n",
       "      <th>8</th>\n",
       "      <td>124350.0</td>\n",
       "      <td>-3.0</td>\n",
       "      <td>-0.420847</td>\n",
       "    </tr>\n",
       "    <tr>\n",
       "      <th>9</th>\n",
       "      <td>124350.0</td>\n",
       "      <td>-2.5</td>\n",
       "      <td>-0.369636</td>\n",
       "    </tr>\n",
       "    <tr>\n",
       "      <th>10</th>\n",
       "      <td>124350.0</td>\n",
       "      <td>-2.0</td>\n",
       "      <td>-0.318425</td>\n",
       "    </tr>\n",
       "    <tr>\n",
       "      <th>11</th>\n",
       "      <td>124350.0</td>\n",
       "      <td>-1.5</td>\n",
       "      <td>-0.267214</td>\n",
       "    </tr>\n",
       "    <tr>\n",
       "      <th>12</th>\n",
       "      <td>124350.0</td>\n",
       "      <td>-1.0</td>\n",
       "      <td>-0.161604</td>\n",
       "    </tr>\n",
       "    <tr>\n",
       "      <th>13</th>\n",
       "      <td>124350.0</td>\n",
       "      <td>-0.5</td>\n",
       "      <td>-0.080887</td>\n",
       "    </tr>\n",
       "    <tr>\n",
       "      <th>14</th>\n",
       "      <td>124350.0</td>\n",
       "      <td>0.0</td>\n",
       "      <td>-0.000036</td>\n",
       "    </tr>\n",
       "    <tr>\n",
       "      <th>15</th>\n",
       "      <td>124350.0</td>\n",
       "      <td>0.5</td>\n",
       "      <td>0.080948</td>\n",
       "    </tr>\n",
       "    <tr>\n",
       "      <th>16</th>\n",
       "      <td>124350.0</td>\n",
       "      <td>1.0</td>\n",
       "      <td>0.162066</td>\n",
       "    </tr>\n",
       "    <tr>\n",
       "      <th>17</th>\n",
       "      <td>124350.0</td>\n",
       "      <td>1.5</td>\n",
       "      <td>0.279402</td>\n",
       "    </tr>\n",
       "    <tr>\n",
       "      <th>18</th>\n",
       "      <td>124350.0</td>\n",
       "      <td>2.0</td>\n",
       "      <td>0.325741</td>\n",
       "    </tr>\n",
       "    <tr>\n",
       "      <th>19</th>\n",
       "      <td>124350.0</td>\n",
       "      <td>2.5</td>\n",
       "      <td>0.372080</td>\n",
       "    </tr>\n",
       "    <tr>\n",
       "      <th>20</th>\n",
       "      <td>124350.0</td>\n",
       "      <td>3.0</td>\n",
       "      <td>0.418419</td>\n",
       "    </tr>\n",
       "    <tr>\n",
       "      <th>21</th>\n",
       "      <td>124350.0</td>\n",
       "      <td>3.5</td>\n",
       "      <td>0.464758</td>\n",
       "    </tr>\n",
       "    <tr>\n",
       "      <th>22</th>\n",
       "      <td>124350.0</td>\n",
       "      <td>4.0</td>\n",
       "      <td>0.511097</td>\n",
       "    </tr>\n",
       "    <tr>\n",
       "      <th>23</th>\n",
       "      <td>124350.0</td>\n",
       "      <td>4.5</td>\n",
       "      <td>0.557436</td>\n",
       "    </tr>\n",
       "    <tr>\n",
       "      <th>24</th>\n",
       "      <td>124350.0</td>\n",
       "      <td>5.0</td>\n",
       "      <td>0.603775</td>\n",
       "    </tr>\n",
       "    <tr>\n",
       "      <th>25</th>\n",
       "      <td>124350.0</td>\n",
       "      <td>5.5</td>\n",
       "      <td>0.650114</td>\n",
       "    </tr>\n",
       "    <tr>\n",
       "      <th>26</th>\n",
       "      <td>124350.0</td>\n",
       "      <td>6.0</td>\n",
       "      <td>0.696453</td>\n",
       "    </tr>\n",
       "    <tr>\n",
       "      <th>27</th>\n",
       "      <td>124350.0</td>\n",
       "      <td>6.5</td>\n",
       "      <td>0.742792</td>\n",
       "    </tr>\n",
       "    <tr>\n",
       "      <th>28</th>\n",
       "      <td>124350.0</td>\n",
       "      <td>7.0</td>\n",
       "      <td>0.789131</td>\n",
       "    </tr>\n",
       "    <tr>\n",
       "      <th>29</th>\n",
       "      <td>124350.0</td>\n",
       "      <td>7.5</td>\n",
       "      <td>0.835470</td>\n",
       "    </tr>\n",
       "    <tr>\n",
       "      <th>30</th>\n",
       "      <td>124350.0</td>\n",
       "      <td>8.0</td>\n",
       "      <td>0.881808</td>\n",
       "    </tr>\n",
       "    <tr>\n",
       "      <th>31</th>\n",
       "      <td>124350.0</td>\n",
       "      <td>8.5</td>\n",
       "      <td>0.928147</td>\n",
       "    </tr>\n",
       "    <tr>\n",
       "      <th>32</th>\n",
       "      <td>124350.0</td>\n",
       "      <td>9.0</td>\n",
       "      <td>0.930631</td>\n",
       "    </tr>\n",
       "    <tr>\n",
       "      <th>33</th>\n",
       "      <td>124350.0</td>\n",
       "      <td>9.5</td>\n",
       "      <td>0.943709</td>\n",
       "    </tr>\n",
       "    <tr>\n",
       "      <th>34</th>\n",
       "      <td>124350.0</td>\n",
       "      <td>10.0</td>\n",
       "      <td>0.947690</td>\n",
       "    </tr>\n",
       "    <tr>\n",
       "      <th>35</th>\n",
       "      <td>124350.0</td>\n",
       "      <td>10.5</td>\n",
       "      <td>0.942576</td>\n",
       "    </tr>\n",
       "    <tr>\n",
       "      <th>36</th>\n",
       "      <td>124350.0</td>\n",
       "      <td>11.0</td>\n",
       "      <td>0.928366</td>\n",
       "    </tr>\n",
       "    <tr>\n",
       "      <th>37</th>\n",
       "      <td>124350.0</td>\n",
       "      <td>11.5</td>\n",
       "      <td>0.905061</td>\n",
       "    </tr>\n",
       "    <tr>\n",
       "      <th>38</th>\n",
       "      <td>124350.0</td>\n",
       "      <td>12.0</td>\n",
       "      <td>0.872659</td>\n",
       "    </tr>\n",
       "  </tbody>\n",
       "</table>\n",
       "</div>"
      ],
      "text/plain": [
       "    Reynolds No  Angle of Attack        Cl\n",
       "0      124350.0             -7.0 -0.830534\n",
       "1      124350.0             -6.5 -0.779323\n",
       "2      124350.0             -6.0 -0.728112\n",
       "3      124350.0             -5.5 -0.676901\n",
       "4      124350.0             -5.0 -0.625690\n",
       "5      124350.0             -4.5 -0.574479\n",
       "6      124350.0             -4.0 -0.523269\n",
       "7      124350.0             -3.5 -0.472058\n",
       "8      124350.0             -3.0 -0.420847\n",
       "9      124350.0             -2.5 -0.369636\n",
       "10     124350.0             -2.0 -0.318425\n",
       "11     124350.0             -1.5 -0.267214\n",
       "12     124350.0             -1.0 -0.161604\n",
       "13     124350.0             -0.5 -0.080887\n",
       "14     124350.0              0.0 -0.000036\n",
       "15     124350.0              0.5  0.080948\n",
       "16     124350.0              1.0  0.162066\n",
       "17     124350.0              1.5  0.279402\n",
       "18     124350.0              2.0  0.325741\n",
       "19     124350.0              2.5  0.372080\n",
       "20     124350.0              3.0  0.418419\n",
       "21     124350.0              3.5  0.464758\n",
       "22     124350.0              4.0  0.511097\n",
       "23     124350.0              4.5  0.557436\n",
       "24     124350.0              5.0  0.603775\n",
       "25     124350.0              5.5  0.650114\n",
       "26     124350.0              6.0  0.696453\n",
       "27     124350.0              6.5  0.742792\n",
       "28     124350.0              7.0  0.789131\n",
       "29     124350.0              7.5  0.835470\n",
       "30     124350.0              8.0  0.881808\n",
       "31     124350.0              8.5  0.928147\n",
       "32     124350.0              9.0  0.930631\n",
       "33     124350.0              9.5  0.943709\n",
       "34     124350.0             10.0  0.947690\n",
       "35     124350.0             10.5  0.942576\n",
       "36     124350.0             11.0  0.928366\n",
       "37     124350.0             11.5  0.905061\n",
       "38     124350.0             12.0  0.872659"
      ]
     },
     "execution_count": 178,
     "metadata": {},
     "output_type": "execute_result"
    }
   ],
   "source": [
    "result_set"
   ]
  },
  {
   "cell_type": "code",
   "execution_count": 179,
   "id": "0ef34a3d",
   "metadata": {},
   "outputs": [
    {
     "data": {
      "text/plain": [
       "<AxesSubplot:xlabel='Angle of Attack', ylabel='Cl'>"
      ]
     },
     "execution_count": 179,
     "metadata": {},
     "output_type": "execute_result"
    },
    {
     "data": {
      "image/png": "[encoded data removed]",
      "text/plain": [
       "<Figure size 432x288 with 1 Axes>"
      ]
     },
     "metadata": {
      "needs_background": "light"
     },
     "output_type": "display_data"
    }
   ],
   "source": [
    "ax = plt.gca()\n",
    "test_data.plot(x='Angle of Attack',y='Cl',color='black',kind='scatter',ax=ax)\n",
    "test_set_1.plot(x='Angle of Attack',y='Cl',color='blue',ax=ax)\n",
    "test_set_2.plot(x='Angle of Attack',y='Cl',color='blue',ax=ax,legend=None)\n",
    "test_set_3.plot(x='Angle of Attack',y='Cl',color='blue',ax=ax,legend=None)\n",
    "test_set_4.plot(x='Angle of Attack',y='Cl',color='blue',ax=ax,legend=None)"
   ]
  },
  {
   "cell_type": "code",
   "execution_count": 180,
   "id": "4666799d",
   "metadata": {},
   "outputs": [
    {
     "data": {
      "text/plain": [
       "<AxesSubplot:xlabel='Angle of Attack', ylabel='Cl'>"
      ]
     },
     "execution_count": 180,
     "metadata": {},
     "output_type": "execute_result"
    },
    {
     "data": {
      "image/png": "[encoded data removed]",
      "text/plain": [
       "<Figure size 432x288 with 1 Axes>"
      ]
     },
     "metadata": {
      "needs_background": "light"
     },
     "output_type": "display_data"
    }
   ],
   "source": [
    "ax = plt.gca()\n",
    "test_data.plot(x='Angle of Attack',y='Cl',color='black',kind='scatter',ax=ax)\n",
    "result_set.plot(x='Angle of Attack',y='Cl',color='blue',ax=ax)"
   ]
  },
  {
   "cell_type": "code",
   "execution_count": 192,
   "id": "b39473bb",
   "metadata": {},
   "outputs": [
    {
     "data": {
      "text/plain": [
       "0.001961482673956767"
      ]
     },
     "execution_count": 192,
     "metadata": {},
     "output_type": "execute_result"
    }
   ],
   "source": [
    "pred_overall_Cl = result_set.iloc[:,2:].values\n",
    "mean_squared_error(Cl_actual, pred_overall_Cl)"
   ]
  },
  {
   "cell_type": "code",
   "execution_count": 193,
   "id": "37af4228",
   "metadata": {},
   "outputs": [
    {
     "data": {
      "text/plain": [
       "0.09852245265248569"
      ]
     },
     "execution_count": 193,
     "metadata": {},
     "output_type": "execute_result"
    }
   ],
   "source": [
    "from sklearn.metrics import max_error \n",
    "max_error(Cl_actual, pred_overall_Cl)"
   ]
  },
  {
   "cell_type": "markdown",
   "id": "cadf3054",
   "metadata": {},
   "source": [
    "# Optimization Result\n",
    "The mean Square error reduced to 0.00196 from 0.015. The max error is 0.098"
   ]
  }
 ],
 "metadata": {
  "kernelspec": {
   "display_name": "Python 3 (ipykernel)",
   "language": "python",
   "name": "python3"
  },
  "language_info": {
   "codemirror_mode": {
    "name": "ipython",
    "version": 3
   },
   "file_extension": ".py",
   "mimetype": "text/x-python",
   "name": "python",
   "nbconvert_exporter": "python",
   "pygments_lexer": "ipython3",
   "version": "3.9.12"
  }
 },
 "nbformat": 4,
 "nbformat_minor": 5
}
